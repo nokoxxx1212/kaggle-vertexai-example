{
 "cells": [
  {
   "cell_type": "markdown",
   "id": "fd14d42e-180a-456b-93d2-c57a3b2b147c",
   "metadata": {},
   "source": [
    "参考:   \n",
    "https://github.com/GoogleCloudPlatform/vertex-ai-samples/blob/main/notebooks/official/pipelines/pipelines_intro_kfp.ipynb"
   ]
  },
  {
   "cell_type": "markdown",
   "id": "68bc3e70-2dcb-4602-b3b6-a2a50defeb4c",
   "metadata": {},
   "source": [
    "## Define constants"
   ]
  },
  {
   "cell_type": "code",
   "execution_count": null,
   "id": "1af36aaa-a7bd-4f36-97ce-b3dd09614c2d",
   "metadata": {},
   "outputs": [],
   "source": [
    "from datetime import datetime\n",
    "TIMESTAMP = datetime.now().strftime(\"%Y%m%d%H%M%S\")\n",
    "# -> '20220305052457'"
   ]
  },
  {
   "cell_type": "code",
   "execution_count": null,
   "id": "d87ad767-3147-4035-b4f9-769f1b3f585f",
   "metadata": {},
   "outputs": [],
   "source": [
    "PROJECT_ID = \"\" \n",
    "REGION = \"us-central1\"\n",
    "BUCKET_NAME = \"gs://\"\n",
    "PIPELINE_ROOT = \"{}/pipeline_root/hello_world\".format(BUCKET_NAME)\n",
    "API_ENDPOINT = \"{}-aiplatform.googleapis.com\".format(REGION)\n",
    "# -> 'us-central1-aiplatform.googleapis.com'\n",
    "DISPLAY_NAME = \"hello_world_\" + TIMESTAMP"
   ]
  },
  {
   "cell_type": "markdown",
   "id": "4ef2a7fe-3cef-45c2-bd70-206a5dc3d607",
   "metadata": {},
   "source": [
    "## Define components and a pipeline"
   ]
  },
  {
   "cell_type": "code",
   "execution_count": null,
   "id": "302c035b-075e-4a33-a36d-7d9e728b62c7",
   "metadata": {},
   "outputs": [],
   "source": [
    "# Set up your Google Cloud project\n",
    "!gcloud config set project $PROJECT_ID"
   ]
  },
  {
   "cell_type": "code",
   "execution_count": null,
   "id": "ee5f4393-be86-4310-9c7a-25dfcc074527",
   "metadata": {},
   "outputs": [],
   "source": [
    "import google.cloud.aiplatform as aip"
   ]
  },
  {
   "cell_type": "code",
   "execution_count": null,
   "id": "5eb56c1e-264f-4947-86c7-c7c3a344b3d7",
   "metadata": {},
   "outputs": [],
   "source": [
    "from typing import NamedTuple\n",
    "\n",
    "from kfp import dsl\n",
    "from kfp.v2 import compiler\n",
    "from kfp.v2.dsl import component"
   ]
  },
  {
   "cell_type": "code",
   "execution_count": null,
   "id": "788c8745-5075-496c-929c-eb8f1ab41036",
   "metadata": {},
   "outputs": [],
   "source": [
    "# Set up your Google Cloud project\n",
    "aip.init(project=PROJECT_ID, staging_bucket=BUCKET_NAME)"
   ]
  },
  {
   "cell_type": "code",
   "execution_count": null,
   "id": "0b1ece7b-c8af-4295-8070-73d461792861",
   "metadata": {},
   "outputs": [],
   "source": [
    "@component(base_image=\"python:3.9\")\n",
    "def hello_world(text: str) -> str:\n",
    "    print(text)\n",
    "    return text"
   ]
  },
  {
   "cell_type": "code",
   "execution_count": null,
   "id": "6faf6128-8f25-4ba1-a13b-8bc7ddc242d0",
   "metadata": {},
   "outputs": [],
   "source": [
    "@component(packages_to_install=[\"google-cloud-storage\"])\n",
    "def two_outputs(\n",
    "    text: str,\n",
    ") -> NamedTuple(\n",
    "    \"Outputs\",\n",
    "    [\n",
    "        (\"output_one\", str),  # Return parameters\n",
    "        (\"output_two\", str),\n",
    "    ],\n",
    "):\n",
    "    # the import is not actually used for this simple example, but the import\n",
    "    # is successful, as it was included in the `packages_to_install` list.\n",
    "    from google.cloud import storage  # noqa: F401\n",
    "\n",
    "    o1 = f\"output one from text: {text}\"\n",
    "    o2 = f\"output two from text: {text}\"\n",
    "    print(\"output one: {}; output_two: {}\".format(o1, o2))\n",
    "    return (o1, o2)"
   ]
  },
  {
   "cell_type": "code",
   "execution_count": null,
   "id": "ceea56c5-03b3-4f85-8766-b08966236b56",
   "metadata": {},
   "outputs": [],
   "source": [
    "@component\n",
    "def consumer(text1: str, text2: str, text3: str):\n",
    "    print(f\"text1: {text1}; text2: {text2}; text3: {text3}\")"
   ]
  },
  {
   "cell_type": "code",
   "execution_count": null,
   "id": "e1da42ad-c050-43a2-b355-76b3b736ac6d",
   "metadata": {},
   "outputs": [],
   "source": [
    "@dsl.pipeline(\n",
    "    name=\"hello-world\",\n",
    "    description=\"A simple examlple pipeline\",\n",
    "    pipeline_root=PIPELINE_ROOT,\n",
    ")\n",
    "def pipeline(text: str = \"hi there\"):\n",
    "    hello_world_task = hello_world(text)\n",
    "    two_outputs_task = two_outputs(text)\n",
    "    consumer_task = consumer(  # noqa: F841\n",
    "        hello_world_task.output,\n",
    "        two_outputs_task.outputs[\"output_one\"],\n",
    "        two_outputs_task.outputs[\"output_two\"],\n",
    "    )"
   ]
  },
  {
   "cell_type": "markdown",
   "id": "766c8cd4-46be-48ea-b6e2-31fff44f9ef0",
   "metadata": {},
   "source": [
    "## Compile the pipeline"
   ]
  },
  {
   "cell_type": "code",
   "execution_count": null,
   "id": "f805dbe7-72d8-484a-8784-1f91f1351df3",
   "metadata": {},
   "outputs": [],
   "source": [
    "from kfp.v2 import compiler  # noqa: F811\n",
    "\n",
    "compiler.Compiler().compile(\n",
    "    pipeline_func=pipeline, package_path=\"pipeline_hello_world.json\".replace(\" \", \"_\")\n",
    ")"
   ]
  },
  {
   "cell_type": "markdown",
   "id": "e1a22162-10f6-4fa7-bd9b-fd34b58706cd",
   "metadata": {},
   "source": [
    "## Run the pipeline"
   ]
  },
  {
   "cell_type": "code",
   "execution_count": null,
   "id": "98aa7e1c-9306-40ed-b676-bbd863f62787",
   "metadata": {},
   "outputs": [],
   "source": [
    "job = aip.PipelineJob(\n",
    "    display_name=DISPLAY_NAME,\n",
    "    template_path=\"pipeline_hello_world.json\".replace(\" \", \"_\"),\n",
    "    pipeline_root=PIPELINE_ROOT,\n",
    ")\n",
    "\n",
    "job.run()"
   ]
  }
 ],
 "metadata": {
  "environment": {
   "kernel": "python3",
   "name": "managed-notebooks.m87",
   "type": "gcloud",
   "uri": "gcr.io/deeplearning-platform-release/base-cu110:latest"
  },
  "kernelspec": {
   "display_name": "Python (Local)",
   "language": "python",
   "name": "local-base"
  },
  "language_info": {
   "codemirror_mode": {
    "name": "ipython",
    "version": 3
   },
   "file_extension": ".py",
   "mimetype": "text/x-python",
   "name": "python",
   "nbconvert_exporter": "python",
   "pygments_lexer": "ipython3",
   "version": "3.7.12"
  }
 },
 "nbformat": 4,
 "nbformat_minor": 5
}
