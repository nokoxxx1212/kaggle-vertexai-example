{
 "cells": [
  {
   "cell_type": "markdown",
   "id": "2a9bb30f-ad48-4813-9119-3a5d759b3dd3",
   "metadata": {},
   "source": [
    "# CONSTANTS"
   ]
  },
  {
   "cell_type": "code",
   "execution_count": 1,
   "id": "a3c4e02b-8cb0-43cd-a9eb-742809a29cb4",
   "metadata": {},
   "outputs": [],
   "source": [
    "raw_data_path = '../input/titanic'\n",
    "transformed_data_path = '../output/titanic'\n",
    "trained_model_path = '../output/titanic'\n",
    "predicted_data_path = '../output/titanic'"
   ]
  },
  {
   "cell_type": "markdown",
   "id": "378e2e73-aa6d-46b3-8590-48299bb56fe5",
   "metadata": {},
   "source": [
    "# 1. transform: 特徴量エンジニアリング"
   ]
  },
  {
   "cell_type": "code",
   "execution_count": 2,
   "id": "214ac7ee-5f51-4452-8bd2-9a732e09c886",
   "metadata": {},
   "outputs": [],
   "source": [
    "import numpy as np\n",
    "import pandas as pd"
   ]
  },
  {
   "cell_type": "code",
   "execution_count": 3,
   "id": "fc43d1cc-43eb-498d-8a20-dae91bde3889",
   "metadata": {},
   "outputs": [],
   "source": [
    "train = pd.read_csv(raw_data_path + '/train.csv')\n",
    "test = pd.read_csv(raw_data_path + '/test.csv')\n",
    "gender_submission = pd.read_csv(raw_data_path + '/gender_submission.csv')"
   ]
  },
  {
   "cell_type": "code",
   "execution_count": 4,
   "id": "95d4def9-67fb-4de2-905a-b2bad9f40bad",
   "metadata": {},
   "outputs": [],
   "source": [
    "data = pd.concat([train, test], sort=False)"
   ]
  },
  {
   "cell_type": "code",
   "execution_count": 5,
   "id": "fe80b42d-0765-411d-84dd-e04fa247432b",
   "metadata": {},
   "outputs": [],
   "source": [
    "data['Sex'].replace(['male', 'female'], [0, 1], inplace=True)"
   ]
  },
  {
   "cell_type": "code",
   "execution_count": 6,
   "id": "5f339d02-5ba7-414a-9c8f-93f1f2e34783",
   "metadata": {},
   "outputs": [],
   "source": [
    "data['Embarked'].fillna(('S'), inplace=True)\n",
    "data['Embarked'] = data['Embarked'].map({'S': 0, 'C': 1, 'Q': 2}).astype(int)"
   ]
  },
  {
   "cell_type": "code",
   "execution_count": 7,
   "id": "58820328-ac35-44db-8996-ee2f0258a41d",
   "metadata": {},
   "outputs": [],
   "source": [
    "data['Fare'].fillna(np.mean(data['Fare']), inplace=True)"
   ]
  },
  {
   "cell_type": "code",
   "execution_count": 8,
   "id": "4f15926d-88b3-453b-87cc-6d954f7e38bc",
   "metadata": {},
   "outputs": [],
   "source": [
    "age_avg = data['Age'].mean()\n",
    "age_std = data['Age'].std()\n",
    "\n",
    "data['Age'].fillna(np.random.randint(age_avg - age_std, age_avg + age_std), inplace=True)"
   ]
  },
  {
   "cell_type": "code",
   "execution_count": 9,
   "id": "52a33ef6-7dd7-4873-a4fd-ec6c326608e8",
   "metadata": {},
   "outputs": [],
   "source": [
    "delete_columns = ['Name', 'PassengerId', 'SibSp', 'Parch', 'Ticket', 'Cabin']\n",
    "data.drop(delete_columns, axis=1, inplace=True)"
   ]
  },
  {
   "cell_type": "code",
   "execution_count": 10,
   "id": "d1b9b8c6-dade-4d84-b5ec-a11d7d91dd83",
   "metadata": {},
   "outputs": [],
   "source": [
    "train = data[:len(train)]\n",
    "test = data[len(train):]"
   ]
  },
  {
   "cell_type": "code",
   "execution_count": 11,
   "id": "85f18646-05d9-4002-a254-cd52bef9d6d9",
   "metadata": {},
   "outputs": [],
   "source": [
    "y_train = train['Survived']\n",
    "X_train = train.drop('Survived', axis=1)\n",
    "X_test = test.drop('Survived', axis=1)"
   ]
  },
  {
   "cell_type": "code",
   "execution_count": 12,
   "id": "e56f0645-feb1-4da9-8452-7ac8ba070eaa",
   "metadata": {},
   "outputs": [],
   "source": [
    "y_train.to_csv(transformed_data_path + \"/y_train.csv\")\n",
    "X_train.to_csv(transformed_data_path + \"/X_train.csv\")\n",
    "X_test.to_csv(transformed_data_path + \"/X_test.csv\")"
   ]
  },
  {
   "cell_type": "markdown",
   "id": "9d1cc7bf-e09e-4bf2-b62c-782b4d26c471",
   "metadata": {},
   "source": [
    "# 2. trainer: 機械学習アルゴリズムの学習"
   ]
  },
  {
   "cell_type": "code",
   "execution_count": 13,
   "id": "99e64c52-1ba9-4a11-ae09-4a8041dbe80c",
   "metadata": {},
   "outputs": [],
   "source": [
    "import numpy as np\n",
    "import pandas as pd\n",
    "from sklearn.linear_model import LogisticRegression\n",
    "import pickle"
   ]
  },
  {
   "cell_type": "code",
   "execution_count": 14,
   "id": "4683be0b-46a5-4bf3-a8f5-7459650de008",
   "metadata": {},
   "outputs": [],
   "source": [
    "y_train = pd.read_csv(transformed_data_path + \"/y_train.csv\", index_col=0)\n",
    "X_train = pd.read_csv(transformed_data_path + \"/X_train.csv\", index_col=0)"
   ]
  },
  {
   "cell_type": "code",
   "execution_count": 15,
   "id": "5837b799-1bcd-48eb-8fbb-760d0bb4b4e7",
   "metadata": {},
   "outputs": [
    {
     "name": "stderr",
     "output_type": "stream",
     "text": [
      "/opt/conda/lib/python3.7/site-packages/sklearn/utils/validation.py:985: DataConversionWarning: A column-vector y was passed when a 1d array was expected. Please change the shape of y to (n_samples, ), for example using ravel().\n",
      "  y = column_or_1d(y, warn=True)\n",
      "/opt/conda/lib/python3.7/site-packages/sklearn/linear_model/_sag.py:354: ConvergenceWarning: The max_iter was reached which means the coef_ did not converge\n",
      "  ConvergenceWarning,\n"
     ]
    },
    {
     "data": {
      "text/plain": [
       "LogisticRegression(random_state=0, solver='sag')"
      ]
     },
     "execution_count": 15,
     "metadata": {},
     "output_type": "execute_result"
    }
   ],
   "source": [
    "model = LogisticRegression(penalty='l2', solver='sag', random_state=0)\n",
    "model.fit(X_train, y_train)"
   ]
  },
  {
   "cell_type": "code",
   "execution_count": 16,
   "id": "067910a5-da6f-4b23-8e1d-b79319e944ca",
   "metadata": {},
   "outputs": [],
   "source": [
    "pickle.dump(model, open(trained_model_path + 'model_titanic.sav', 'wb'))"
   ]
  },
  {
   "cell_type": "markdown",
   "id": "c44700b7-98bb-4553-ad38-ecbaba6b258a",
   "metadata": {},
   "source": [
    "# 3. predictor: 機械学習アルゴリズムの予測"
   ]
  },
  {
   "cell_type": "code",
   "execution_count": 17,
   "id": "9355298c-6a91-4035-899c-c8b85f4ff591",
   "metadata": {},
   "outputs": [
    {
     "name": "stdout",
     "output_type": "stream",
     "text": [
      "Collecting kaggle\n",
      "  Using cached kaggle-1.5.12-py3-none-any.whl\n",
      "Requirement already satisfied: urllib3 in /opt/conda/lib/python3.7/site-packages (from kaggle) (1.26.7)\n",
      "Requirement already satisfied: requests in /opt/conda/lib/python3.7/site-packages (from kaggle) (2.26.0)\n",
      "Requirement already satisfied: six>=1.10 in /opt/conda/lib/python3.7/site-packages (from kaggle) (1.16.0)\n",
      "Requirement already satisfied: python-dateutil in /opt/conda/lib/python3.7/site-packages (from kaggle) (2.8.2)\n",
      "Requirement already satisfied: tqdm in /opt/conda/lib/python3.7/site-packages (from kaggle) (4.62.3)\n",
      "Requirement already satisfied: python-slugify in /opt/conda/lib/python3.7/site-packages (from kaggle) (5.0.2)\n",
      "Requirement already satisfied: certifi in /opt/conda/lib/python3.7/site-packages (from kaggle) (2021.10.8)\n",
      "Requirement already satisfied: text-unidecode>=1.3 in /opt/conda/lib/python3.7/site-packages (from python-slugify->kaggle) (1.3)\n",
      "Requirement already satisfied: charset-normalizer~=2.0.0 in /opt/conda/lib/python3.7/site-packages (from requests->kaggle) (2.0.8)\n",
      "Requirement already satisfied: idna<4,>=2.5 in /opt/conda/lib/python3.7/site-packages (from requests->kaggle) (3.1)\n",
      "Installing collected packages: kaggle\n",
      "Successfully installed kaggle-1.5.12\n"
     ]
    }
   ],
   "source": [
    "!pip install kaggle"
   ]
  },
  {
   "cell_type": "code",
   "execution_count": 18,
   "id": "3b13194c-8359-424c-ab5e-81e78953cbe8",
   "metadata": {},
   "outputs": [],
   "source": [
    "import numpy as np\n",
    "import pandas as pd\n",
    "from sklearn.linear_model import LogisticRegression\n",
    "import pickle\n",
    "from kaggle.api.kaggle_api_extended import KaggleApi"
   ]
  },
  {
   "cell_type": "code",
   "execution_count": 19,
   "id": "90605811-8930-4456-a728-7fb8fec5c8f0",
   "metadata": {},
   "outputs": [],
   "source": [
    "X_test = pd.read_csv(transformed_data_path + \"/X_test.csv\", index_col=0)"
   ]
  },
  {
   "cell_type": "code",
   "execution_count": 20,
   "id": "8ba7630a-feb2-4b7d-898a-e51a17803f05",
   "metadata": {},
   "outputs": [],
   "source": [
    "loaded_model = pickle.load(open(trained_model_path + 'model_titanic.sav', 'rb'))"
   ]
  },
  {
   "cell_type": "code",
   "execution_count": 21,
   "id": "9596676c-0704-4cb2-ad0c-4a3672818c3a",
   "metadata": {},
   "outputs": [],
   "source": [
    "y_pred = loaded_model.predict(X_test)"
   ]
  },
  {
   "cell_type": "code",
   "execution_count": 22,
   "id": "38a164f1-ddeb-44d6-8ffd-c46059d7b4d8",
   "metadata": {},
   "outputs": [],
   "source": [
    "# submit\n",
    "sub = pd.read_csv(raw_data_path + '/gender_submission.csv')\n",
    "sub['Survived'] = list(map(int, y_pred))\n",
    "sub.to_csv(predicted_data_path + 'submission.csv', index=False)"
   ]
  },
  {
   "cell_type": "code",
   "execution_count": 23,
   "id": "cc5651ca-e7e5-4bd1-9235-8b471c8ff82f",
   "metadata": {},
   "outputs": [],
   "source": [
    "api = KaggleApi()\n",
    "api.authenticate()\n",
    "#api.competition_submit(file_name=predicted_data_path + 'submission.csv', message='update', competition='titanic')"
   ]
  }
 ],
 "metadata": {
  "environment": {
   "kernel": "python3",
   "name": "managed-notebooks.m87",
   "type": "gcloud",
   "uri": "gcr.io/deeplearning-platform-release/base-cu110:latest"
  },
  "kernelspec": {
   "display_name": "Python (Local)",
   "language": "python",
   "name": "local-base"
  },
  "language_info": {
   "codemirror_mode": {
    "name": "ipython",
    "version": 3
   },
   "file_extension": ".py",
   "mimetype": "text/x-python",
   "name": "python",
   "nbconvert_exporter": "python",
   "pygments_lexer": "ipython3",
   "version": "3.7.12"
  }
 },
 "nbformat": 4,
 "nbformat_minor": 5
}
